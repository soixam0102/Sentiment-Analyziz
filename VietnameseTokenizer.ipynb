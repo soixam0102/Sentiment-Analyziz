{
 "cells": [
  {
   "cell_type": "markdown",
   "id": "38b8d86f",
   "metadata": {},
   "source": [
    "### Tokenization with VNLP core"
   ]
  },
  {
   "cell_type": "markdown",
   "id": "e587139f",
   "metadata": {},
   "source": [
    "###### Reading paper\n",
    "https://arxiv.org/pdf/1709.06307v2.pdf\n",
    "A Fast and Accurate Vietnamese Word Segmenter\n",
    "- Based on the Single Classification Ripple Down Rules (RDR) methodology\n",
    "- Nhanh và mạnh hơp các phương phaps khác như JVnSegmenter, vnTockenizer, DongDu, UETsegmenter.\n",
    "-Vậy thì RDR là gì ? "
   ]
  },
  {
   "cell_type": "code",
   "execution_count": 4,
   "id": "cd9462e5",
   "metadata": {},
   "outputs": [],
   "source": [
    "from vncorenlp import VnCoreNLP"
   ]
  },
  {
   "cell_type": "code",
   "execution_count": 6,
   "id": "2a2edfd4",
   "metadata": {},
   "outputs": [],
   "source": [
    "sentences = ['VTV đồng ý chia sẻ bản quyền World Cup 2018 cho HTV để khai thác. ',\n",
    "'Nhưng cả hai nhà đài đều phải chờ sự đồng ý của FIFA mới thực hiện được điều này.']\n",
    "    "
   ]
  },
  {
   "cell_type": "code",
   "execution_count": 7,
   "id": "0b180967",
   "metadata": {},
   "outputs": [
    {
     "data": {
      "text/plain": [
       "['VTV đồng ý chia sẻ bản quyền World Cup 2018 cho HTV để khai thác. ',\n",
       " 'Nhưng cả hai nhà đài đều phải chờ sự đồng ý của FIFA mới thực hiện được điều này.']"
      ]
     },
     "execution_count": 7,
     "metadata": {},
     "output_type": "execute_result"
    }
   ],
   "source": [
    "sentences"
   ]
  },
  {
   "cell_type": "code",
   "execution_count": 11,
   "id": "7d3f39a4",
   "metadata": {
    "scrolled": true
   },
   "outputs": [
    {
     "name": "stdout",
     "output_type": "stream",
     "text": [
      "[['VTV', 'đồng_ý', 'chia_sẻ', 'bản_quyền', 'World_Cup', '2018', 'cho', 'HTV', 'để', 'khai_thác', '.']]\n",
      "[['Nhưng', 'cả', 'hai', 'nhà', 'đài', 'đều', 'phải', 'chờ', 'sự', 'đồng_ý', 'của', 'FIFA', 'mới', 'thực_hiện', 'được', 'điều', 'này', '.']]\n"
     ]
    }
   ],
   "source": [
    "rdrsegmenter = VnCoreNLP(\"vncorenlp/VnCoreNLP-1.1.1.jar\", annotators=\"wseg\", max_heap_size='-Xmx500m')\n",
    "for item in sentences:\n",
    "    word_segmented_text = rdrsegmenter.tokenize(item)\n",
    "    print(word_segmented_text)"
   ]
  }
 ],
 "metadata": {
  "kernelspec": {
   "display_name": "Python 3.9.5 64-bit ('myenv': conda)",
   "language": "python",
   "name": "python395jvsc74a57bd0d8f54f19d88e051e72ef3eb8c29534107549a0c7b24a7c8e60b74598e47a86c9"
  },
  "language_info": {
   "codemirror_mode": {
    "name": "ipython",
    "version": 3
   },
   "file_extension": ".py",
   "mimetype": "text/x-python",
   "name": "python",
   "nbconvert_exporter": "python",
   "pygments_lexer": "ipython3",
   "version": "3.8.10"
  }
 },
 "nbformat": 4,
 "nbformat_minor": 5
}
